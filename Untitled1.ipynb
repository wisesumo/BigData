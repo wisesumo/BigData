{
 "cells": [
  {
   "cell_type": "code",
   "execution_count": 1,
   "metadata": {
    "collapsed": false
   },
   "outputs": [
    {
     "ename": "NameError",
     "evalue": "name 'pd' is not defined",
     "output_type": "error",
     "traceback": [
      "\u001b[0;31m---------------------------------------------------------------------------\u001b[0m",
      "\u001b[0;31mNameError\u001b[0m                                 Traceback (most recent call last)",
      "\u001b[0;32m<ipython-input-1-1bd25b27d6da>\u001b[0m in \u001b[0;36m<module>\u001b[0;34m()\u001b[0m\n\u001b[1;32m      3\u001b[0m \u001b[0;34m\u001b[0m\u001b[0m\n\u001b[1;32m      4\u001b[0m \u001b[0;31m# Load the reduced version of the Lending Club Dataset\u001b[0m\u001b[0;34m\u001b[0m\u001b[0;34m\u001b[0m\u001b[0m\n\u001b[0;32m----> 5\u001b[0;31m \u001b[0mloansData\u001b[0m \u001b[0;34m=\u001b[0m \u001b[0mpd\u001b[0m\u001b[0;34m.\u001b[0m\u001b[0mread_csv\u001b[0m\u001b[0;34m(\u001b[0m\u001b[0;34m'https://spark-public.s3.amazonaws.com/dataanalysis/loansData.csv'\u001b[0m\u001b[0;34m)\u001b[0m\u001b[0;34m\u001b[0m\u001b[0m\n\u001b[0m\u001b[1;32m      6\u001b[0m \u001b[0;31m# Drop null rows\u001b[0m\u001b[0;34m\u001b[0m\u001b[0;34m\u001b[0m\u001b[0m\n\u001b[1;32m      7\u001b[0m \u001b[0mloansData\u001b[0m\u001b[0;34m.\u001b[0m\u001b[0mdropna\u001b[0m\u001b[0;34m(\u001b[0m\u001b[0minplace\u001b[0m\u001b[0;34m=\u001b[0m\u001b[0mTrue\u001b[0m\u001b[0;34m)\u001b[0m\u001b[0;34m\u001b[0m\u001b[0m\n",
      "\u001b[0;31mNameError\u001b[0m: name 'pd' is not defined"
     ]
    }
   ],
   "source": [
    "from scipy import stats\n",
    "import collections\n",
    "\n",
    "# Load the reduced version of the Lending Club Dataset\n",
    "loansData = pd.read_csv('https://spark-public.s3.amazonaws.com/dataanalysis/loansData.csv')\n",
    "# Drop null rows\n",
    "loansData.dropna(inplace=True)\n",
    "\n",
    "freq = collections.Counter(loansData['Open.CREDIT.Lines'])"
   ]
  },
  {
   "cell_type": "code",
   "execution_count": 2,
   "metadata": {
    "collapsed": false
   },
   "outputs": [
    {
     "name": "stdout",
     "output_type": "stream",
     "text": [
      "The number of unique elements in freq is 29\n",
      "The most frequent number of open credit lines is 8.0\n",
      "Data shows a chi-squared and a p-value of 2408.43314652 0.0\n"
     ]
    }
   ],
   "source": [
    "import matplotlib.pyplot as plt\n",
    "import pandas as pd\n",
    "import scipy.stats as stats\n",
    "import collections\n",
    "\n",
    "#load the reduced version of the Lending Club Dataset\n",
    "loansData = pd.read_csv('https://spark-public.s3.amazonaws.com/dataanalysis/loansData.csv')\n",
    "\n",
    "#drop null values\n",
    "loansData.dropna(inplace=True)\n",
    "\n",
    "freq = collections.Counter(loansData['Open.CREDIT.Lines'])\n",
    "\n",
    "k = 0\n",
    "for i in freq:\n",
    "\tk = k+1\n",
    "\n",
    "print \"The number of unique elements in freq is\", k\n",
    "\n",
    "print \"The most frequent number of open credit lines is\", freq.most_common(1)[0][0]\n",
    "\n",
    "plt.figure()\n",
    "plt.bar(freq.keys(), freq.values(), width=1)\n",
    "plt.show()\n",
    "\n",
    "# do a Chi-Squared test:\n",
    "chi, p = stats.chisquare(freq.values())\n",
    "\n",
    "print \"Data shows a chi-squared and a p-value of\", chi, p"
   ]
  },
  {
   "cell_type": "code",
   "execution_count": 3,
   "metadata": {
    "collapsed": false
   },
   "outputs": [
    {
     "ename": "ImportError",
     "evalue": "No module named statsmodels.api",
     "output_type": "error",
     "traceback": [
      "\u001b[0;31m---------------------------------------------------------------------------\u001b[0m",
      "\u001b[0;31mImportError\u001b[0m                               Traceback (most recent call last)",
      "\u001b[0;32m<ipython-input-3-4826aedd08c5>\u001b[0m in \u001b[0;36m<module>\u001b[0;34m()\u001b[0m\n\u001b[1;32m     24\u001b[0m \u001b[0;34m\u001b[0m\u001b[0m\n\u001b[1;32m     25\u001b[0m \u001b[0;32mimport\u001b[0m \u001b[0mnumpy\u001b[0m \u001b[0;32mas\u001b[0m \u001b[0mnp\u001b[0m\u001b[0;34m\u001b[0m\u001b[0m\n\u001b[0;32m---> 26\u001b[0;31m \u001b[0;32mimport\u001b[0m \u001b[0mstatsmodels\u001b[0m\u001b[0;34m.\u001b[0m\u001b[0mapi\u001b[0m \u001b[0;32mas\u001b[0m \u001b[0msm\u001b[0m\u001b[0;34m\u001b[0m\u001b[0m\n\u001b[0m\u001b[1;32m     27\u001b[0m \u001b[0;34m\u001b[0m\u001b[0m\n\u001b[1;32m     28\u001b[0m \u001b[0mintrate\u001b[0m \u001b[0;34m=\u001b[0m \u001b[0mloansData\u001b[0m\u001b[0;34m[\u001b[0m\u001b[0;34m'Interest.Rate'\u001b[0m\u001b[0;34m]\u001b[0m\u001b[0;34m\u001b[0m\u001b[0m\n",
      "\u001b[0;31mImportError\u001b[0m: No module named statsmodels.api"
     ]
    }
   ],
   "source": [
    "import pandas as pd\n",
    "loansData = pd.read_csv('https://spark-public.s3.amazonaws.com/dataanalysis/loansData.csv')\n",
    "\n",
    "#Remove the '%' symbols from the Interest.Rate column.\n",
    "loansData['Interest.Rate'] = map(lambda x: float(x.rstrip('%')), loansData['Interest.Rate'])\n",
    "\n",
    "#Remove the word 'months' from the Loan.Length column.\n",
    "loansData['Loan.Length'] = map(lambda x: int(x.rstrip('months')), loansData['Loan.Length'])\n",
    "\n",
    "#Convert FICO scores into a numerical value, and save it in a new column called FICO.Score. Since the ranges are small, we're going to go ahead and pick the first number to represent the range.\n",
    "loansData['FICO.Score'] = loansData['FICO.Range'].astype('string')\n",
    "\n",
    "loansData['FICO.Score'] = map(lambda x: int(x.split(\"-\")[0]), loansData['FICO.Score']) \n",
    "\n",
    "import matplotlib.pyplot as plt\n",
    "\n",
    "plt.figure()\n",
    "p = loansData['FICO.Score'].hist()\n",
    "\n",
    "a = pd.scatter_matrix(loansData, alpha=0.05, figsize=(10,10), diagonal='hist')\n",
    "#plt.show()\n",
    "\n",
    "#NOTE: a Gaussian distribution (also called a normal distribution, a Gaussian distribution is the classic symmetric \"bell curve\n",
    "\n",
    "import numpy as np\n",
    "import statsmodels.api as sm\n",
    "\n",
    "intrate = loansData['Interest.Rate']\n",
    "loanamt = loansData['Amount.Requested']\n",
    "fico = loansData['FICO.Score']\n",
    "\n",
    "# The dependent variable\n",
    "y = np.matrix(intrate).transpose()\n",
    "# The independent variables shaped as columns\n",
    "x1 = np.matrix(fico).transpose()\n",
    "x2 = np.matrix(loanamt).transpose()\n",
    "\n",
    "x = np.column_stack([x1,x2])\n",
    "\n",
    "X = sm.add_constant(x)\n",
    "model = sm.OLS(y,X)\n",
    "f = model.fit()\n",
    "\n",
    "\n",
    "print 'Coefficients: ', f.params[0:2]\n",
    "print 'Intercept: ', f.params[2]\n",
    "print 'P-Values: ', f.pvalues\n",
    "print 'R-Squared: ', f.rsquared\n",
    "\n",
    "\n",
    "loansData.to_csv('loansData_clean.csv', header=True, index=False)\n"
   ]
  },
  {
   "cell_type": "code",
   "execution_count": null,
   "metadata": {
    "collapsed": true
   },
   "outputs": [],
   "source": []
  }
 ],
 "metadata": {
  "kernelspec": {
   "display_name": "Python 2",
   "language": "python",
   "name": "python2"
  },
  "language_info": {
   "codemirror_mode": {
    "name": "ipython",
    "version": 2
   },
   "file_extension": ".py",
   "mimetype": "text/x-python",
   "name": "python",
   "nbconvert_exporter": "python",
   "pygments_lexer": "ipython2",
   "version": "2.7.9"
  }
 },
 "nbformat": 4,
 "nbformat_minor": 0
}
