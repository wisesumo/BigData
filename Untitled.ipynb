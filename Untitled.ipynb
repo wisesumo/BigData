{
 "cells": [
  {
   "cell_type": "code",
   "execution_count": null,
   "metadata": {
    "collapsed": false
   },
   "outputs": [],
   "source": [
    "import matplotlib.pyplot as plt\n",
    "import pandas as pd\n",
    "import scipy.stats as stats\n",
    "\n",
    "loansData = pd.read_csv('https://spark-public.s3.amazonaws.com/dataanalysis/loansData.csv')\n",
    "\n",
    "#remove rows with null values\n",
    "loansData.dropna(inplace=True)\n",
    "\n",
    "#generate box plot of loan amounts\n",
    "loansData.boxplot(column=['Amount.Funded.By.Investors' , 'Amount.Requested'])\n",
    "plt.savefig('lendingclub-boxplot.pdf', format='pdf')\n",
    "\n",
    "#The box plot shows that the investors funded about $10000 on average\n",
    "\n",
    "#generate histogram for loan amounts\n",
    "loansData.hist(column=['Amount.Funded.By.Investors', 'Amount.Requested'], layout=(2,1))\n",
    "plt.savefig('lendingclub-hist.pdf', format='pdf')\n",
    "\n",
    "#The histogram shows the distribution of funding.\n",
    "\n",
    "plt.figure()\n",
    "plt.subplot(211)\n",
    "graph = stats.probplot(loansData['Amount.Funded.By.Investors'], dist=\"norm\", plot=plt)\n",
    "plt.subplot(212)\n",
    "graph = stats.probplot(loansData['Amount.Requested'], dist=\"norm\", plot=plt)\n",
    "plt.savefig('lendingclub-qq.pdf', format='pdf')\n",
    "\n",
    "plt.show()"
   ]
  },
  {
   "cell_type": "code",
   "execution_count": null,
   "metadata": {
    "collapsed": true
   },
   "outputs": [],
   "source": []
  }
 ],
 "metadata": {
  "kernelspec": {
   "display_name": "Python 2",
   "language": "python",
   "name": "python2"
  },
  "language_info": {
   "codemirror_mode": {
    "name": "ipython",
    "version": 2
   },
   "file_extension": ".py",
   "mimetype": "text/x-python",
   "name": "python",
   "nbconvert_exporter": "python",
   "pygments_lexer": "ipython2",
   "version": "2.7.9"
  }
 },
 "nbformat": 4,
 "nbformat_minor": 0
}
